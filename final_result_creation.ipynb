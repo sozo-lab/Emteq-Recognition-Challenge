{
 "cells": [
  {
   "cell_type": "code",
   "execution_count": 127,
   "metadata": {},
   "outputs": [],
   "source": [
    "import pandas as pd\n",
    "import numpy as np\n",
    "import pyprind\n",
    "import csv"
   ]
  },
  {
   "cell_type": "code",
   "execution_count": 101,
   "metadata": {},
   "outputs": [],
   "source": [
    "test_result_df = pd.read_csv(\"result.csv\")"
   ]
  },
  {
   "cell_type": "code",
   "execution_count": 126,
   "metadata": {},
   "outputs": [],
   "source": [
    "def write_csv(write_list):\n",
    "    with open(\"result_20190901.csv\",mode=\"a\",encoding=\"utf-8\") as f:\n",
    "        writer = csv.writer(f,lineterminator='\\n')\n",
    "        writer.writerow(write_list)"
   ]
  },
  {
   "cell_type": "code",
   "execution_count": 102,
   "metadata": {},
   "outputs": [],
   "source": [
    "target_dict = {'1a': 1, '1b': 2, '2a': 3, '2b': 4,'2c': 5, '2d': 6, '3a': 7, '3b': 8}"
   ]
  },
  {
   "cell_type": "code",
   "execution_count": 103,
   "metadata": {},
   "outputs": [],
   "source": [
    "for target in target_dict:\n",
    "    test_result_df = test_result_df.replace(target_dict[target],target)"
   ]
  },
  {
   "cell_type": "code",
   "execution_count": 104,
   "metadata": {},
   "outputs": [],
   "source": [
    "test_result_df.to_csv(\"test_result_lr.csv\",index=False)"
   ]
  },
  {
   "cell_type": "code",
   "execution_count": 136,
   "metadata": {},
   "outputs": [],
   "source": [
    "def get_activity_id(timestamp):\n",
    "    activity =test_result_df[test_result_df.timestamp==timestamp][\"activity\"].values\n",
    "    return activity[0]"
   ]
  },
  {
   "cell_type": "code",
   "execution_count": 137,
   "metadata": {},
   "outputs": [
    {
     "data": {
      "text/plain": [
       "'2a'"
      ]
     },
     "execution_count": 137,
     "metadata": {},
     "output_type": "execute_result"
    }
   ],
   "source": [
    "get_activity_id(\"2019-07-10_142937:400\")"
   ]
  },
  {
   "cell_type": "code",
   "execution_count": 105,
   "metadata": {},
   "outputs": [],
   "source": [
    "user_0004_df = pd.read_csv(\"dataset/0004/Subject_0004_EMTEQ_50Hz.csv\")\n",
    "user_0004_df.columns=[\"timestamp\",\"AccX\",\"AccY\",\"AccZ\",\"GyroX\",\"GyroY\",\"GyroZ\",\"MagX\",\"MagY\",\"MagZ\",\"activity\"]"
   ]
  },
  {
   "cell_type": "code",
   "execution_count": 106,
   "metadata": {},
   "outputs": [],
   "source": [
    "user0004_df = user_0004_df.drop([\"AccX\",\"AccY\",\"AccZ\",\"GyroX\",\"GyroY\",\"GyroZ\",\"MagX\",\"MagY\",\"MagZ\"],axis=1)"
   ]
  },
  {
   "cell_type": "code",
   "execution_count": 107,
   "metadata": {},
   "outputs": [],
   "source": [
    "user0004_df.to_csv(\"result_user0004.csv\",index=False)"
   ]
  },
  {
   "cell_type": "code",
   "execution_count": 108,
   "metadata": {},
   "outputs": [],
   "source": [
    "user0004_drop_df = pd.read_csv(\"result_user0004.csv\")"
   ]
  },
  {
   "cell_type": "code",
   "execution_count": 119,
   "metadata": {},
   "outputs": [],
   "source": [
    "user0004_data=user0004_drop_df.values"
   ]
  },
  {
   "cell_type": "code",
   "execution_count": 140,
   "metadata": {},
   "outputs": [
    {
     "name": "stdout",
     "output_type": "stream",
     "text": [
      "1b\n",
      "3b\n",
      "2a\n",
      "2a\n",
      "1a\n",
      "2a\n",
      "2a\n",
      "1a\n",
      "3b\n",
      "1b\n",
      "2b\n",
      "3a\n",
      "2a\n",
      "3b\n",
      "2a\n",
      "2a\n",
      "1a\n",
      "3b\n",
      "1a\n",
      "3a\n",
      "3b\n",
      "1b\n",
      "2a\n",
      "1b\n",
      "3b\n",
      "1b\n",
      "3a\n",
      "2a\n",
      "3b\n",
      "3b\n",
      "2b\n",
      "2c\n",
      "1b\n",
      "2c\n",
      "2c\n"
     ]
    }
   ],
   "source": [
    "timestamp_list = []\n",
    "for data in user0004_data:\n",
    "    \n",
    "    if data[1] != \"TRANSITION\":\n",
    "        timestamp_list.append(data[0])\n",
    "    else:\n",
    "        if timestamp_list != []:\n",
    "            activity_id = get_activity_id(timestamp_list[0])\n",
    "            print(activity_id)\n",
    "            for timestamp in timestamp_list:\n",
    "                write_csv([timestamp,activity_id])\n",
    "        \n",
    "        write_csv([data[0],data[1]])\n",
    "        timestamp_list = []"
   ]
  },
  {
   "cell_type": "code",
   "execution_count": null,
   "metadata": {},
   "outputs": [],
   "source": []
  }
 ],
 "metadata": {
  "kernelspec": {
   "display_name": "Python 3",
   "language": "python",
   "name": "python3"
  },
  "language_info": {
   "codemirror_mode": {
    "name": "ipython",
    "version": 3
   },
   "file_extension": ".py",
   "mimetype": "text/x-python",
   "name": "python",
   "nbconvert_exporter": "python",
   "pygments_lexer": "ipython3",
   "version": "3.6.8"
  }
 },
 "nbformat": 4,
 "nbformat_minor": 2
}
