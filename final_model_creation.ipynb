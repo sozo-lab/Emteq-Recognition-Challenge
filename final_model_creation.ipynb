{
 "cells": [
  {
   "cell_type": "code",
   "execution_count": 1,
   "metadata": {},
   "outputs": [],
   "source": [
    "from load_data import load_data"
   ]
  },
  {
   "cell_type": "code",
   "execution_count": 2,
   "metadata": {},
   "outputs": [],
   "source": [
    "from sklearn.ensemble import RandomForestClassifier"
   ]
  },
  {
   "cell_type": "code",
   "execution_count": 3,
   "metadata": {},
   "outputs": [
    {
     "name": "stderr",
     "output_type": "stream",
     "text": [
      "/anaconda3/lib/python3.6/site-packages/h5py/__init__.py:36: FutureWarning: Conversion of the second argument of issubdtype from `float` to `np.floating` is deprecated. In future, it will be treated as `np.float64 == np.dtype(float).type`.\n",
      "  from ._conv import register_converters as _register_converters\n",
      "Using TensorFlow backend.\n"
     ]
    }
   ],
   "source": [
    "from imblearn.over_sampling import SMOTE"
   ]
  },
  {
   "cell_type": "code",
   "execution_count": 112,
   "metadata": {},
   "outputs": [],
   "source": [
    "import csv"
   ]
  },
  {
   "cell_type": "code",
   "execution_count": 86,
   "metadata": {},
   "outputs": [],
   "source": [
    "import statistics"
   ]
  },
  {
   "cell_type": "code",
   "execution_count": 26,
   "metadata": {},
   "outputs": [],
   "source": [
    "from glob import glob\n",
    "import os\n",
    "import pandas as pd\n",
    "import numpy as np"
   ]
  },
  {
   "cell_type": "code",
   "execution_count": 5,
   "metadata": {},
   "outputs": [],
   "source": [
    "def segmentation(x_data_list,y_list,overlap_rate,time_window):\n",
    "    \n",
    "    seg_data = []\n",
    "    overlap = int((1 - overlap_rate)*time_window)\n",
    "    y_segmented_list = []\n",
    "    for x_data,y in zip(x_data_list,y_list):\n",
    "        for i in range(0,x_data.shape[0],overlap):\n",
    "            seg_data.append(x_data[i:i+time_window])\n",
    "            y_segmented_list.append(y)\n",
    "    \n",
    "    return seg_data,y_segmented_list"
   ]
  },
  {
   "cell_type": "code",
   "execution_count": 38,
   "metadata": {},
   "outputs": [],
   "source": [
    "def segmentation_with_seg_num(x_data_list,seg_id_list,overlap_rate,time_window):\n",
    "    \n",
    "    seg_data = []\n",
    "    overlap = int((1 - overlap_rate)*time_window)\n",
    "    seg_id_list_increase = []\n",
    "    for x_data,seg_id in zip(x_data_list,seg_id_list):\n",
    "        for i in range(0,x_data.shape[0],overlap):\n",
    "            seg_data.append(x_data[i:i+time_window])\n",
    "            seg_id_list_increase.append(seg_id)\n",
    "    \n",
    "    return seg_data,seg_id_list_increase"
   ]
  },
  {
   "cell_type": "code",
   "execution_count": 7,
   "metadata": {},
   "outputs": [],
   "source": [
    "def get_features(x_data):\n",
    "    features = []\n",
    "    for i in range(x_data.shape[1]):\n",
    "        # std\n",
    "        features.append(x_data.T[i].std(ddof=0))\n",
    "        # avg\n",
    "        features.append(np.average(x_data.T[i]))\n",
    "        # max\n",
    "        features.append(np.max(x_data.T[i]))\n",
    "        # min\n",
    "        features.append(np.min(x_data.T[i]))\n",
    "        # kurtosis\n",
    "#         features.append(stats.kurtosis(x_data[0].T[i]))\n",
    "    return features"
   ]
  },
  {
   "cell_type": "code",
   "execution_count": 57,
   "metadata": {},
   "outputs": [],
   "source": [
    "def load_test_data(csv_folder_path):\n",
    "    csv_file_paths = glob(csv_folder_path)\n",
    "    x_data_list = []\n",
    "    seg_id_list = []\n",
    "    for csv_file in csv_file_paths:\n",
    "        csv_df = pd.read_csv(csv_file)\n",
    "        file_name = os.path.basename(csv_file)\n",
    "        seg_id = os.path.splitext(file_name)[0].replace(\"segment\",\"\")\n",
    "        x_data_list.append(csv_df.drop([\"timestamp\",\"Activity\"],axis=1).values)\n",
    "        seg_id_list.append(int(seg_id))\n",
    "\n",
    "    return x_data_list,seg_id_list"
   ]
  },
  {
   "cell_type": "code",
   "execution_count": 18,
   "metadata": {},
   "outputs": [],
   "source": [
    "X_user0001,y_user0001 = load_data(\"segdata/0001/*\")\n",
    "X_user0003,y_user0003 = load_data(\"segdata/0003/*\")\n",
    "X_user0002,y_user0002 = load_data(\"segdata/0002/*\")"
   ]
  },
  {
   "cell_type": "code",
   "execution_count": 21,
   "metadata": {},
   "outputs": [],
   "source": [
    "x_seg_data,y_seg_data = segmentation(X_user0001+X_user0002+X_user0003,y_user0001+y_user0002+y_user0003,overlap_rate=0.5,time_window=100)"
   ]
  },
  {
   "cell_type": "code",
   "execution_count": 22,
   "metadata": {},
   "outputs": [],
   "source": [
    "model_ml = RandomForestClassifier(n_estimators=500,n_jobs=-1)"
   ]
  },
  {
   "cell_type": "code",
   "execution_count": 28,
   "metadata": {},
   "outputs": [],
   "source": [
    "X_features_data = []"
   ]
  },
  {
   "cell_type": "code",
   "execution_count": 29,
   "metadata": {},
   "outputs": [],
   "source": [
    "for train in x_seg_data:\n",
    "    X_features_data.append(get_features(train))"
   ]
  },
  {
   "cell_type": "code",
   "execution_count": 30,
   "metadata": {},
   "outputs": [
    {
     "name": "stdout",
     "output_type": "stream",
     "text": [
      "41440\n",
      "41440\n"
     ]
    },
    {
     "data": {
      "text/plain": [
       "RandomForestClassifier(bootstrap=True, class_weight=None, criterion='gini',\n",
       "                       max_depth=None, max_features='auto', max_leaf_nodes=None,\n",
       "                       min_impurity_decrease=0.0, min_impurity_split=None,\n",
       "                       min_samples_leaf=1, min_samples_split=2,\n",
       "                       min_weight_fraction_leaf=0.0, n_estimators=500,\n",
       "                       n_jobs=-1, oob_score=False, random_state=None, verbose=0,\n",
       "                       warm_start=False)"
      ]
     },
     "execution_count": 30,
     "metadata": {},
     "output_type": "execute_result"
    }
   ],
   "source": [
    "print(len(x_seg_data))\n",
    "print(len(y_seg_data))\n",
    "model_ml.fit(X_features_data,y_seg_data)"
   ]
  },
  {
   "cell_type": "code",
   "execution_count": 58,
   "metadata": {},
   "outputs": [],
   "source": [
    "x_data_list_test,seg_id_list = load_test_data(\"segdata_test/0004/*\")"
   ]
  },
  {
   "cell_type": "code",
   "execution_count": 120,
   "metadata": {},
   "outputs": [],
   "source": [
    "a = [len(x_data) for x_data in x_data_list_test]"
   ]
  },
  {
   "cell_type": "code",
   "execution_count": 121,
   "metadata": {},
   "outputs": [
    {
     "name": "stdout",
     "output_type": "stream",
     "text": [
      "437013\n"
     ]
    }
   ],
   "source": [
    "print(sum(a))"
   ]
  },
  {
   "cell_type": "code",
   "execution_count": 59,
   "metadata": {},
   "outputs": [],
   "source": [
    "x_seg_data_test,seg_id_list_increase = segmentation_with_seg_num(x_data_list_test,seg_id_list,overlap_rate=0.5,time_window=100)"
   ]
  },
  {
   "cell_type": "code",
   "execution_count": 64,
   "metadata": {},
   "outputs": [
    {
     "name": "stdout",
     "output_type": "stream",
     "text": [
      "8760\n",
      "8760\n"
     ]
    }
   ],
   "source": [
    "print(len(x_seg_data_test))\n",
    "print(len(seg_id_list_increase))"
   ]
  },
  {
   "cell_type": "code",
   "execution_count": 65,
   "metadata": {},
   "outputs": [],
   "source": [
    "target_features = []\n",
    "# print((x_seg_data))\n",
    "for target in x_seg_data_test:\n",
    "    target_features.append(get_features(target))"
   ]
  },
  {
   "cell_type": "code",
   "execution_count": 73,
   "metadata": {},
   "outputs": [
    {
     "name": "stdout",
     "output_type": "stream",
     "text": [
      "8760\n",
      "8760\n"
     ]
    }
   ],
   "source": [
    "print(len(target_features))\n",
    "print(len(seg_id_list_increase))\n",
    "\n",
    "target_features = np.array(target_features)"
   ]
  },
  {
   "cell_type": "code",
   "execution_count": 93,
   "metadata": {},
   "outputs": [],
   "source": [
    "predict_dict = {}"
   ]
  },
  {
   "cell_type": "code",
   "execution_count": 95,
   "metadata": {},
   "outputs": [],
   "source": [
    "def predict_testdata(clf,x_test,seg_id):\n",
    "    y_predict = clf.predict(x_test)\n",
    "#     print(y_predict)\n",
    "    for y_,seg_id in zip(y_predict,seg_id_list_increase):\n",
    "        predict_dict.setdefault(int(seg_id),[]).append(y_)\n",
    "    return predict_dict"
   ]
  },
  {
   "cell_type": "code",
   "execution_count": 96,
   "metadata": {},
   "outputs": [
    {
     "data": {
      "text/plain": [
       "RandomForestClassifier(bootstrap=True, class_weight=None, criterion='gini',\n",
       "                       max_depth=None, max_features='auto', max_leaf_nodes=None,\n",
       "                       min_impurity_decrease=0.0, min_impurity_split=None,\n",
       "                       min_samples_leaf=1, min_samples_split=2,\n",
       "                       min_weight_fraction_leaf=0.0, n_estimators=500,\n",
       "                       n_jobs=-1, oob_score=False, random_state=None, verbose=0,\n",
       "                       warm_start=False)"
      ]
     },
     "execution_count": 96,
     "metadata": {},
     "output_type": "execute_result"
    }
   ],
   "source": [
    "model_ml"
   ]
  },
  {
   "cell_type": "code",
   "execution_count": 97,
   "metadata": {},
   "outputs": [
    {
     "name": "stdout",
     "output_type": "stream",
     "text": [
      "[7 7 3 ... 1 1 7]\n"
     ]
    }
   ],
   "source": [
    "predict_label_dict = predict_testdata(model_ml,target_features,seg_id_list_increase)"
   ]
  },
  {
   "cell_type": "code",
   "execution_count": 117,
   "metadata": {},
   "outputs": [
    {
     "name": "stdout",
     "output_type": "stream",
     "text": [
      "3 3\n",
      "2 8\n",
      "1 2\n",
      "5 1\n",
      "4 3\n",
      "6 3\n",
      "7 3\n",
      "34 5\n",
      "20 7\n",
      "21 8\n",
      "35 5\n",
      "23 3\n",
      "22 2\n",
      "26 2\n",
      "32 5\n",
      "33 2\n",
      "27 7\n",
      "19 1\n",
      "31 4\n",
      "25 8\n",
      "24 2\n",
      "30 8\n",
      "18 8\n",
      "15 3\n",
      "29 8\n",
      "28 3\n",
      "14 8\n",
      "16 3\n",
      "17 1\n",
      "13 3\n",
      "12 7\n",
      "10 2\n",
      "11 4\n",
      "9 8\n",
      "8 1\n"
     ]
    }
   ],
   "source": [
    "for seg_id in predict_label_dict:\n",
    "    pred = statistics.mode(predict_label_dict[seg_id])\n",
    "    print(seg_id,pred)  \n",
    "    timestamp_list = get_timestamp(seg_id)\n",
    "    for timestamp in timestamp_list:\n",
    "        write_csv([timestamp,pred])"
   ]
  },
  {
   "cell_type": "code",
   "execution_count": 111,
   "metadata": {},
   "outputs": [],
   "source": [
    "def get_timestamp(seg_id):\n",
    "    df_test_data = pd.read_csv(\"segdata_test/0004/segment{}.csv\".format(seg_id))\n",
    "    timestamp_list = df_test_data[\"timestamp\"].values\n",
    "    return timestamp_list"
   ]
  },
  {
   "cell_type": "code",
   "execution_count": 116,
   "metadata": {},
   "outputs": [],
   "source": [
    "timestamp_list = get_timestamp(1)\n",
    "pred = statistics.mode(predict_label_dict[1])\n",
    "for timestamp in timestamp_list:\n",
    "    write_csv([timestamp,pred])"
   ]
  },
  {
   "cell_type": "code",
   "execution_count": 109,
   "metadata": {},
   "outputs": [
    {
     "name": "stdout",
     "output_type": "stream",
     "text": [
      "12012\n"
     ]
    }
   ],
   "source": [
    "print(len(timestamp_list))"
   ]
  },
  {
   "cell_type": "code",
   "execution_count": 115,
   "metadata": {},
   "outputs": [],
   "source": [
    "def write_csv(write_list):\n",
    "    with open(\"result.csv\",mode=\"a\",encoding=\"utf-8\") as f:\n",
    "        writer = csv.writer(f,lineterminator='\\n')\n",
    "        writer.writerow(write_list)"
   ]
  },
  {
   "cell_type": "code",
   "execution_count": null,
   "metadata": {},
   "outputs": [],
   "source": []
  }
 ],
 "metadata": {
  "kernelspec": {
   "display_name": "Python 3",
   "language": "python",
   "name": "python3"
  },
  "language_info": {
   "codemirror_mode": {
    "name": "ipython",
    "version": 3
   },
   "file_extension": ".py",
   "mimetype": "text/x-python",
   "name": "python",
   "nbconvert_exporter": "python",
   "pygments_lexer": "ipython3",
   "version": "3.6.8"
  }
 },
 "nbformat": 4,
 "nbformat_minor": 2
}
