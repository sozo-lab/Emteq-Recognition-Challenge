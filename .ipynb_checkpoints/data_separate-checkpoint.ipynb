{
 "cells": [
  {
   "cell_type": "code",
   "execution_count": 1,
   "metadata": {},
   "outputs": [
    {
     "data": {
      "text/plain": [
       "CompletedProcess(args=['jupyter', 'nbconvert', '--to', 'python', 'data_separate.ipynb'], returncode=0)"
      ]
     },
     "execution_count": 1,
     "metadata": {},
     "output_type": "execute_result"
    }
   ],
   "source": [
    "import subprocess\n",
    "subprocess.run(['jupyter', 'nbconvert', '--to', 'python', 'data_separate.ipynb'])"
   ]
  },
  {
   "cell_type": "code",
   "execution_count": 34,
   "metadata": {},
   "outputs": [],
   "source": [
    "import pandas as pd\n",
    "import csv\n",
    "import numpy as np"
   ]
  },
  {
   "cell_type": "code",
   "execution_count": 96,
   "metadata": {},
   "outputs": [],
   "source": [
    "folder=\"segdata/0004/\""
   ]
  },
  {
   "cell_type": "code",
   "execution_count": 97,
   "metadata": {},
   "outputs": [],
   "source": [
    "def write_csv(file_name,acc_list):\n",
    "    with open(folder+\"segment\"+file_name+\".csv\",mode=\"w\",encoding=\"utf-8\") as f:\n",
    "        writer = csv.writer(f,lineterminator='\\n')\n",
    "        writer.writerow(acc_list)"
   ]
  },
  {
   "cell_type": "code",
   "execution_count": 98,
   "metadata": {},
   "outputs": [],
   "source": [
    "def write_pandas_csv(file_name,seg_data):\n",
    "    df = pd.DataFrame(seg_data,columns=data_columns)\n",
    "    df.to_csv(folder+\"segment\"+str(file_name)+\".csv\",index=False)"
   ]
  },
  {
   "cell_type": "code",
   "execution_count": 100,
   "metadata": {},
   "outputs": [],
   "source": [
    "data0001 = pd.read_csv(\"dataset/0004/Subject_0004_EMTEQ_50Hz.csv\")\n",
    "data0001 = data0001.values"
   ]
  },
  {
   "cell_type": "code",
   "execution_count": 101,
   "metadata": {},
   "outputs": [],
   "source": [
    "for i in range(len(data0001)):\n",
    "    data0001[i][10] =str(data0001[i][10]).replace(\" \",\"\")\n",
    "#     print(data0001[i][10])\n",
    "    if type(data0001[i][10]) == float:\n",
    "        print(i,data0001[i])   "
   ]
  },
  {
   "cell_type": "code",
   "execution_count": 102,
   "metadata": {},
   "outputs": [],
   "source": [
    "data_columns = [\"timestamp\",\"AccX\",\"AccY\",\"AccZ\",\"GyroX\",\"GyroY\",\"GyroZ\",\"MagX\",\"MagY\",\"MagZ\",\"Activity\"]"
   ]
  },
  {
   "cell_type": "code",
   "execution_count": 103,
   "metadata": {},
   "outputs": [],
   "source": [
    "# pd.DataFrame(data0001)"
   ]
  },
  {
   "cell_type": "code",
   "execution_count": 105,
   "metadata": {},
   "outputs": [
    {
     "name": "stdout",
     "output_type": "stream",
     "text": [
      "(12012, 11)\n",
      "(22532, 11)\n",
      "(18729, 11)\n",
      "(17629, 11)\n",
      "(12212, 11)\n",
      "(9471, 11)\n",
      "(1911, 11)\n",
      "(6960, 11)\n",
      "(3167, 11)\n",
      "(3575, 11)\n",
      "(16080, 11)\n",
      "(20078, 11)\n",
      "(1277, 11)\n",
      "(12671, 11)\n",
      "(28816, 11)\n",
      "(26727, 11)\n",
      "(17671, 11)\n",
      "(2415, 11)\n",
      "(3080, 11)\n",
      "(16422, 11)\n",
      "(5172, 11)\n",
      "(2732, 11)\n",
      "(35178, 11)\n",
      "(16418, 11)\n",
      "(3421, 11)\n",
      "(6265, 11)\n",
      "(23680, 11)\n",
      "(6475, 11)\n",
      "(42073, 11)\n",
      "(4375, 11)\n",
      "(5771, 11)\n",
      "(14969, 11)\n",
      "(7213, 11)\n",
      "(5614, 11)\n",
      "(4222, 11)\n"
     ]
    }
   ],
   "source": [
    "seg_data = []\n",
    "seg_num = 1\n",
    "for data in data0001:\n",
    "    if data[10] != \"TRANSITION\":\n",
    "        seg_data.append(data)\n",
    "    else:\n",
    "        # saving\n",
    "        if seg_data != []:\n",
    "            seg_data = np.array(seg_data)\n",
    "            print(seg_data.shape)\n",
    "#             write_csv(str(seg_num),seg_data)\n",
    "#             np.savetxt('segdata/0001/out.csv',seg_data,delimiter=',')\n",
    "            write_pandas_csv(seg_num,seg_data)\n",
    "            seg_num += 1\n",
    "            seg_data = []"
   ]
  }
 ],
 "metadata": {
  "kernelspec": {
   "display_name": "Python 3",
   "language": "python",
   "name": "python3"
  },
  "language_info": {
   "codemirror_mode": {
    "name": "ipython",
    "version": 3
   },
   "file_extension": ".py",
   "mimetype": "text/x-python",
   "name": "python",
   "nbconvert_exporter": "python",
   "pygments_lexer": "ipython3",
   "version": "3.6.8"
  }
 },
 "nbformat": 4,
 "nbformat_minor": 2
}
